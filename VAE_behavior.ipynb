{
 "cells": [
  {
   "cell_type": "code",
   "execution_count": 1,
   "metadata": {},
   "outputs": [],
   "source": [
    "from datasets.behavior import *\n",
    "from common.utils import *\n",
    "from common.plot_utils import *\n",
    "from common.train_utils import *"
   ]
  },
  {
   "cell_type": "code",
   "execution_count": 2,
   "metadata": {},
   "outputs": [],
   "source": [
    "import torch.nn as nn\n",
    "import torch.nn.functional as F\n",
    "import torch.utils\n",
    "import torch.distributions"
   ]
  },
  {
   "cell_type": "code",
   "execution_count": 3,
   "metadata": {},
   "outputs": [],
   "source": [
    "BATCH_SIZE = 16"
   ]
  },
  {
   "cell_type": "markdown",
   "metadata": {},
   "source": [
    "### Create dataset"
   ]
  },
  {
   "cell_type": "code",
   "execution_count": 4,
   "metadata": {},
   "outputs": [],
   "source": [
    "dataset = BehaviourDataset('./behavior.csv', harmful_only=True)\n",
    "loader = DataLoader(dataset, batch_size=BATCH_SIZE, shuffle=True)"
   ]
  },
  {
   "cell_type": "markdown",
   "metadata": {},
   "source": [
    "# VAE"
   ]
  },
  {
   "cell_type": "code",
   "execution_count": 50,
   "metadata": {},
   "outputs": [],
   "source": [
    "class VariationalEncoder(nn.Module):\n",
    "    def __init__(self):\n",
    "        super().__init__()\n",
    "        self.activation = nn.LeakyReLU(0.2)\n",
    "        self.linear1 = nn.Linear(PCA_COMPONENTS, 64)\n",
    "        self.linear2 = nn.Linear(64, 32)\n",
    "        self.linear3 = nn.Linear(32, 2)\n",
    "        self.linear4 = nn.Linear(32, 2)\n",
    "        \n",
    "        self.N = torch.distributions.Normal(0, 1)\n",
    "        self.N.loc = self.N.loc\n",
    "        self.N.scale = self.N.scale\n",
    "        self.kl = 0\n",
    "    \n",
    "    def forward(self, x):\n",
    "        x = self.activation(self.linear1(x))\n",
    "        x = self.activation(self.linear2(x))\n",
    "        mu =  self.linear3(x)\n",
    "        sigma = self.linear4(x)\n",
    "        z = mu + sigma*self.N.sample(mu.shape)\n",
    "        self.kl = (sigma**2 + mu**2 - sigma - 1/2).sum()\n",
    "        return z"
   ]
  },
  {
   "cell_type": "code",
   "execution_count": 51,
   "metadata": {},
   "outputs": [],
   "source": [
    "class VariationalAutoencoder(nn.Module):\n",
    "    def __init__(self):\n",
    "        super(VariationalAutoencoder, self).__init__()\n",
    "        self.encoder = VariationalEncoder()\n",
    "        self.decoder = torch.nn.Sequential(\n",
    "            torch.nn.Linear(2, 32),\n",
    "            nn.Dropout(p=0.2),\n",
    "            nn.LeakyReLU(0.2),\n",
    "            torch.nn.Linear(32, 64),\n",
    "            nn.Dropout(p=0.2),\n",
    "            nn.LeakyReLU(0.2),\n",
    "            torch.nn.Linear(64, 105),\n",
    "        )\n",
    "    \n",
    "    def forward(self, x):\n",
    "        z = self.encoder(x)\n",
    "        return self.decoder(z)"
   ]
  },
  {
   "cell_type": "code",
   "execution_count": 52,
   "metadata": {},
   "outputs": [],
   "source": [
    "model = VariationalAutoencoder()\n",
    "optimizer = torch.optim.Adam(model.parameters(), lr = 1e-3)"
   ]
  },
  {
   "cell_type": "markdown",
   "metadata": {},
   "source": [
    "### Train VAE"
   ]
  },
  {
   "cell_type": "code",
   "execution_count": 53,
   "metadata": {},
   "outputs": [],
   "source": [
    "EPOCHS = 40"
   ]
  },
  {
   "cell_type": "code",
   "execution_count": 54,
   "metadata": {},
   "outputs": [
    {
     "name": "stdout",
     "output_type": "stream",
     "text": [
      "Epoch 1/40. time: 3.785s\n",
      "train loss: 1.065570\n",
      "\n",
      "\n",
      "Epoch 2/40. time: 3.519s\n",
      "train loss: 0.645298\n",
      "\n",
      "\n",
      "Epoch 3/40. time: 3.902s\n",
      "train loss: 0.516463\n",
      "\n",
      "\n",
      "Epoch 4/40. time: 3.988s\n",
      "train loss: -1.947962\n",
      "\n",
      "\n",
      "Epoch 5/40. time: 4.305s\n",
      "train loss: -2.307949\n",
      "\n",
      "\n",
      "Epoch 6/40. time: 4.051s\n",
      "train loss: -2.349431\n",
      "\n",
      "\n",
      "Epoch 7/40. time: 3.409s\n",
      "train loss: -2.326554\n",
      "\n",
      "\n",
      "Epoch 8/40. time: 3.999s\n",
      "train loss: -2.447218\n",
      "\n",
      "\n",
      "Epoch 9/40. time: 3.120s\n",
      "train loss: -2.572683\n",
      "\n",
      "\n",
      "Epoch 10/40. time: 2.913s\n",
      "train loss: -2.427403\n",
      "\n",
      "\n",
      "Epoch 11/40. time: 3.088s\n",
      "train loss: -2.622466\n",
      "\n",
      "\n",
      "Epoch 12/40. time: 3.472s\n",
      "train loss: -2.485960\n",
      "\n",
      "\n",
      "Epoch 13/40. time: 2.737s\n",
      "train loss: -2.552552\n",
      "\n",
      "\n",
      "Epoch 14/40. time: 2.789s\n",
      "train loss: -2.582999\n",
      "\n",
      "\n",
      "Epoch 15/40. time: 3.868s\n",
      "train loss: -2.657810\n",
      "\n",
      "\n",
      "Epoch 16/40. time: 4.047s\n",
      "train loss: -2.518973\n",
      "\n",
      "\n",
      "Epoch 17/40. time: 3.892s\n",
      "train loss: -2.641045\n",
      "\n",
      "\n",
      "Epoch 18/40. time: 3.647s\n",
      "train loss: -2.493175\n",
      "\n",
      "\n",
      "Epoch 19/40. time: 4.102s\n",
      "train loss: -2.567317\n",
      "\n",
      "\n",
      "Epoch 20/40. time: 4.114s\n",
      "train loss: -2.582239\n",
      "\n",
      "\n",
      "Epoch 21/40. time: 4.468s\n",
      "train loss: -2.646551\n",
      "\n",
      "\n",
      "Epoch 22/40. time: 4.099s\n",
      "train loss: -2.659404\n",
      "\n",
      "\n",
      "Epoch 23/40. time: 5.811s\n",
      "train loss: -2.664102\n",
      "\n",
      "\n",
      "Epoch 24/40. time: 5.379s\n",
      "train loss: -2.681417\n",
      "\n",
      "\n",
      "Epoch 25/40. time: 3.783s\n",
      "train loss: -2.683413\n",
      "\n",
      "\n",
      "Epoch 26/40. time: 4.610s\n",
      "train loss: -2.558125\n",
      "\n",
      "\n",
      "Epoch 27/40. time: 4.370s\n",
      "train loss: -2.742067\n",
      "\n",
      "\n",
      "Epoch 28/40. time: 3.824s\n",
      "train loss: -2.707345\n",
      "\n",
      "\n",
      "Epoch 29/40. time: 4.170s\n",
      "train loss: -2.691885\n",
      "\n",
      "\n",
      "Epoch 30/40. time: 3.744s\n",
      "train loss: -2.679809\n",
      "\n",
      "\n",
      "Epoch 31/40. time: 3.824s\n",
      "train loss: -2.713350\n",
      "\n",
      "\n",
      "Epoch 32/40. time: 3.867s\n",
      "train loss: -2.466252\n",
      "\n",
      "\n",
      "Epoch 33/40. time: 4.865s\n",
      "train loss: -2.670883\n",
      "\n",
      "\n",
      "Epoch 34/40. time: 4.103s\n",
      "train loss: -2.700406\n",
      "\n",
      "\n",
      "Epoch 35/40. time: 4.859s\n",
      "train loss: -2.730028\n",
      "\n",
      "\n",
      "Epoch 36/40. time: 4.450s\n",
      "train loss: -2.782765\n",
      "\n",
      "\n",
      "Epoch 37/40. time: 4.837s\n",
      "train loss: -2.743551\n",
      "\n",
      "\n",
      "Epoch 38/40. time: 3.994s\n",
      "train loss: -2.555023\n",
      "\n",
      "\n",
      "Epoch 39/40. time: 3.684s\n",
      "train loss: -2.671257\n",
      "\n",
      "\n",
      "Epoch 40/40. time: 4.909s\n",
      "train loss: -2.684616\n",
      "\n",
      "\n"
     ]
    }
   ],
   "source": [
    "vae_loss = train_model_vae(model, loader, optimizer, EPOCHS)"
   ]
  },
  {
   "cell_type": "markdown",
   "metadata": {},
   "source": [
    "### Results"
   ]
  },
  {
   "cell_type": "code",
   "execution_count": 55,
   "metadata": {},
   "outputs": [
    {
     "data": {
      "image/png": "[encoded data removed]",
      "text/plain": [
       "<Figure size 360x360 with 1 Axes>"
      ]
     },
     "metadata": {
      "needs_background": "light"
     },
     "output_type": "display_data"
    }
   ],
   "source": [
    "plot_train(vae_loss)"
   ]
  },
  {
   "cell_type": "code",
   "execution_count": 56,
   "metadata": {},
   "outputs": [
    {
     "data": {
      "image/png": "[encoded data removed]",
      "text/plain": [
       "<Figure size 432x288 with 1 Axes>"
      ]
     },
     "metadata": {
      "needs_background": "light"
     },
     "output_type": "display_data"
    }
   ],
   "source": [
    "plot_latent(loader, model, False)"
   ]
  },
  {
   "cell_type": "code",
   "execution_count": 12,
   "metadata": {},
   "outputs": [],
   "source": [
    "torch.save(model, './models/VAE_Behavior_40_epoch.pth')"
   ]
  },
  {
   "cell_type": "markdown",
   "metadata": {},
   "source": [
    "# Metrics"
   ]
  },
  {
   "cell_type": "code",
   "execution_count": 57,
   "metadata": {},
   "outputs": [],
   "source": [
    "from common.metrics import *\n",
    "from torch.distributions import normal\n",
    "import os"
   ]
  },
  {
   "cell_type": "code",
   "execution_count": null,
   "metadata": {},
   "outputs": [],
   "source": [
    "model = torch.load('./models/VAE_Behavior_40_epoch.pth')\n",
    "model.eval()"
   ]
  },
  {
   "cell_type": "code",
   "execution_count": 250,
   "metadata": {},
   "outputs": [],
   "source": [
    "GEN_BATCH = 1024"
   ]
  },
  {
   "cell_type": "code",
   "execution_count": 263,
   "metadata": {},
   "outputs": [],
   "source": [
    "distribution = normal.Normal(0.0, 1)\n",
    "noize = distribution.sample([GEN_BATCH, 2])"
   ]
  },
  {
   "cell_type": "code",
   "execution_count": 264,
   "metadata": {},
   "outputs": [],
   "source": [
    "with torch.no_grad():\n",
    "    generated_behavior = model.decoder(noize)"
   ]
  },
  {
   "cell_type": "code",
   "execution_count": null,
   "metadata": {},
   "outputs": [],
   "source": [
    "min_dist = behavior_dist(generated_behavior, loader)"
   ]
  },
  {
   "cell_type": "code",
   "execution_count": 169,
   "metadata": {},
   "outputs": [
    {
     "name": "stdout",
     "output_type": "stream",
     "text": [
      "min dist to real sample vector is 14.926982879638672\n"
     ]
    }
   ],
   "source": [
    "print(f'min dist to real sample vector is {min_dist}')"
   ]
  },
  {
   "cell_type": "code",
   "execution_count": 265,
   "metadata": {},
   "outputs": [],
   "source": [
    "current_path = !pwd\n",
    "clf_path = os.path.join(current_path[0], 'models/behavior_clf_40_epoch.pth')"
   ]
  },
  {
   "cell_type": "code",
   "execution_count": 266,
   "metadata": {},
   "outputs": [],
   "source": [
    "probs = harmful_behavior_probs(generated_behavior, clf_path)"
   ]
  },
  {
   "cell_type": "code",
   "execution_count": 267,
   "metadata": {},
   "outputs": [],
   "source": [
    "mean_prob = probs.mean()"
   ]
  },
  {
   "cell_type": "code",
   "execution_count": 268,
   "metadata": {},
   "outputs": [
    {
     "name": "stdout",
     "output_type": "stream",
     "text": [
      "mean classifier harmful behavior prob 0.45574116706848145\n"
     ]
    }
   ],
   "source": [
    "print(f'mean classifier harmful behavior prob {mean_prob}')"
   ]
  },
  {
   "cell_type": "code",
   "execution_count": 181,
   "metadata": {},
   "outputs": [],
   "source": [
    "plt.rcParams['figure.figsize'] = [10, 7]"
   ]
  },
  {
   "cell_type": "code",
   "execution_count": 269,
   "metadata": {},
   "outputs": [
    {
     "data": {
      "image/png": "[encoded data removed]",
      "text/plain": [
       "<Figure size 720x504 with 1 Axes>"
      ]
     },
     "metadata": {
      "needs_background": "light"
     },
     "output_type": "display_data"
    }
   ],
   "source": [
    "# Step 1: Convert probability values to floats\n",
    "probabilities = [str(x.item()) for x in probs]\n",
    "probabilities = [float(prob.replace(',', '.')) for prob in probabilities]\n",
    "\n",
    "# Step 2: Create intervals from 0 to 1 with step size 0.1\n",
    "intervals = [i / 10 for i in range(11)]\n",
    "\n",
    "# Step 3: Count the values within each interval\n",
    "counts = [0] * (len(intervals) - 1)\n",
    "for prob in probabilities:\n",
    "    for i in range(len(intervals) - 1):\n",
    "        if intervals[i] <= prob < intervals[i + 1]:\n",
    "            counts[i] += 1\n",
    "            break\n",
    "\n",
    "# Step 4: Plot the histogram\n",
    "plt.bar(intervals[:-1], counts, align='edge', width=0.1)\n",
    "plt.xlabel('Intervals')\n",
    "plt.ylabel('Count')\n",
    "plt.title('Histogram of Probabilities')\n",
    "plt.show()"
   ]
  },
  {
   "cell_type": "code",
   "execution_count": null,
   "metadata": {},
   "outputs": [],
   "source": []
  }
 ],
 "metadata": {
  "kernelspec": {
   "display_name": "Python 3",
   "language": "python",
   "name": "python3"
  },
  "language_info": {
   "codemirror_mode": {
    "name": "ipython",
    "version": 3
   },
   "file_extension": ".py",
   "mimetype": "text/x-python",
   "name": "python",
   "nbconvert_exporter": "python",
   "pygments_lexer": "ipython3",
   "version": "3.8.8"
  }
 },
 "nbformat": 4,
 "nbformat_minor": 4
}
