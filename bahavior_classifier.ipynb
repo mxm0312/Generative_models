{
 "cells": [
  {
   "cell_type": "code",
   "execution_count": 1,
   "id": "2d36a42a",
   "metadata": {},
   "outputs": [],
   "source": [
    "from datasets.behavior import *\n",
    "from common.utils import *\n",
    "from common.plot_utils import *\n",
    "from common.train_utils import *"
   ]
  },
  {
   "cell_type": "code",
   "execution_count": 2,
   "id": "9fef4167",
   "metadata": {},
   "outputs": [],
   "source": [
    "full_dataset = BehaviourDataset('./behavior.csv')"
   ]
  },
  {
   "cell_type": "markdown",
   "id": "0b5e2475",
   "metadata": {},
   "source": [
    "### Train/Val"
   ]
  },
  {
   "cell_type": "code",
   "execution_count": 3,
   "id": "6f4cbecd",
   "metadata": {},
   "outputs": [],
   "source": [
    "val_size = 0.2\n",
    "val_inds = subset_ind(full_dataset, 0.2)"
   ]
  },
  {
   "cell_type": "code",
   "execution_count": 4,
   "id": "ed3a9593",
   "metadata": {},
   "outputs": [
    {
     "name": "stdout",
     "output_type": "stream",
     "text": [
      "train size: 40000\n",
      "val size: 10000\n"
     ]
    }
   ],
   "source": [
    "train_dataset = Subset(full_dataset, [i for i in range(len(full_dataset)) if i not in val_inds])\n",
    "val_dataset = Subset(full_dataset, val_inds)\n",
    "\n",
    "print(f'train size: {len(train_dataset)}\\nval size: {len(val_dataset)}')"
   ]
  },
  {
   "cell_type": "markdown",
   "id": "83ea4201",
   "metadata": {},
   "source": [
    "### Dataloaders"
   ]
  },
  {
   "cell_type": "code",
   "execution_count": 28,
   "id": "db45d6d1",
   "metadata": {},
   "outputs": [],
   "source": [
    "BATCH_SIZE = 1"
   ]
  },
  {
   "cell_type": "code",
   "execution_count": 29,
   "id": "dea36e5d",
   "metadata": {},
   "outputs": [],
   "source": [
    "train_loader = DataLoader(train_dataset, batch_size=BATCH_SIZE, shuffle=True)\n",
    "val_loader = DataLoader(val_dataset, batch_size=BATCH_SIZE, shuffle=True)"
   ]
  },
  {
   "cell_type": "markdown",
   "id": "bac9cd37",
   "metadata": {},
   "source": [
    "### NN Model"
   ]
  },
  {
   "cell_type": "code",
   "execution_count": 30,
   "id": "9feedf96",
   "metadata": {},
   "outputs": [],
   "source": [
    "loss_function = torch.nn.BCELoss()"
   ]
  },
  {
   "cell_type": "code",
   "execution_count": 31,
   "id": "da88b108",
   "metadata": {},
   "outputs": [],
   "source": [
    "class Reshape(torch.nn.Module):\n",
    "    def __init__(self, *args):\n",
    "        super().__init__()\n",
    "        self.shape = args\n",
    "\n",
    "    def forward(self, x):\n",
    "        return x.view(self.shape)"
   ]
  },
  {
   "cell_type": "code",
   "execution_count": 62,
   "id": "8baf03fb",
   "metadata": {},
   "outputs": [],
   "source": [
    "model = torch.nn.Sequential(\n",
    "    torch.nn.Linear(105, 64),\n",
    "    torch.nn.ReLU(),\n",
    "    torch.nn.Linear(64, 32),\n",
    "    torch.nn.Linear(32, 16),\n",
    "    torch.nn.ReLU(),\n",
    "    torch.nn.Linear(16, 1),\n",
    "    torch.nn.Sigmoid()\n",
    ")\n",
    "\n",
    "optimizer = torch.optim.Adam(model.parameters(), lr = 1e-3)"
   ]
  },
  {
   "cell_type": "markdown",
   "id": "df90efe8",
   "metadata": {},
   "source": [
    "### Train"
   ]
  },
  {
   "cell_type": "code",
   "execution_count": 63,
   "id": "22e20ad4",
   "metadata": {},
   "outputs": [],
   "source": [
    "EPOCHS = 20"
   ]
  },
  {
   "cell_type": "code",
   "execution_count": 64,
   "id": "d63ea004",
   "metadata": {},
   "outputs": [
    {
     "name": "stdout",
     "output_type": "stream",
     "text": [
      "Epoch 1/20. time: 35.668s\n",
      "train loss: 0.487160\n",
      "val loss: 0.468272\n",
      "validation acc: 0.768600\n",
      "\n",
      "\n",
      "Epoch 2/20. time: 32.264s\n",
      "train loss: 0.455139\n",
      "val loss: 0.452524\n",
      "validation acc: 0.788600\n",
      "\n",
      "\n",
      "Epoch 3/20. time: 31.819s\n",
      "train loss: 0.439394\n",
      "val loss: 0.436592\n",
      "validation acc: 0.793700\n",
      "\n",
      "\n",
      "Epoch 4/20. time: 35.217s\n",
      "train loss: 0.426176\n",
      "val loss: 0.462439\n",
      "validation acc: 0.730800\n",
      "\n",
      "\n",
      "Epoch 5/20. time: 32.297s\n",
      "train loss: 0.420024\n",
      "val loss: 0.429824\n",
      "validation acc: 0.793500\n",
      "\n",
      "\n",
      "Epoch 6/20. time: 31.983s\n",
      "train loss: 0.413651\n",
      "val loss: 0.431355\n",
      "validation acc: 0.797500\n",
      "\n",
      "\n",
      "Epoch 7/20. time: 31.946s\n",
      "train loss: 0.408346\n",
      "val loss: 0.436204\n",
      "validation acc: 0.787500\n",
      "\n",
      "\n",
      "Epoch 8/20. time: 32.526s\n",
      "train loss: 0.404482\n",
      "val loss: 0.429077\n",
      "validation acc: 0.801100\n",
      "\n",
      "\n",
      "Epoch 9/20. time: 35.149s\n",
      "train loss: 0.400835\n",
      "val loss: 0.422143\n",
      "validation acc: 0.803300\n",
      "\n",
      "\n",
      "Epoch 10/20. time: 36.346s\n",
      "train loss: 0.399234\n",
      "val loss: 0.432304\n",
      "validation acc: 0.807200\n",
      "\n",
      "\n",
      "Epoch 11/20. time: 35.846s\n",
      "train loss: 0.397207\n",
      "val loss: 0.431147\n",
      "validation acc: 0.802000\n",
      "\n",
      "\n",
      "Epoch 12/20. time: 32.280s\n",
      "train loss: 0.394271\n",
      "val loss: 0.420759\n",
      "validation acc: 0.804100\n",
      "\n",
      "\n",
      "Epoch 13/20. time: 32.192s\n",
      "train loss: 0.392118\n",
      "val loss: 0.460512\n",
      "validation acc: 0.804100\n",
      "\n",
      "\n",
      "Epoch 14/20. time: 33.189s\n",
      "train loss: 0.390093\n",
      "val loss: 0.432879\n",
      "validation acc: 0.804000\n",
      "\n",
      "\n",
      "Epoch 15/20. time: 32.102s\n",
      "train loss: 0.390469\n",
      "val loss: 0.427895\n",
      "validation acc: 0.805800\n",
      "\n",
      "\n",
      "Epoch 16/20. time: 32.247s\n",
      "train loss: 0.387974\n",
      "val loss: 0.431131\n",
      "validation acc: 0.801900\n",
      "\n",
      "\n",
      "Epoch 17/20. time: 32.221s\n",
      "train loss: 0.386171\n",
      "val loss: 0.440936\n",
      "validation acc: 0.809900\n",
      "\n",
      "\n",
      "Epoch 18/20. time: 32.477s\n",
      "train loss: 0.387024\n",
      "val loss: 0.438458\n",
      "validation acc: 0.807600\n",
      "\n",
      "\n",
      "Epoch 19/20. time: 37.578s\n",
      "train loss: 0.384738\n",
      "val loss: 0.430610\n",
      "validation acc: 0.811300\n",
      "\n",
      "\n",
      "Epoch 20/20. time: 35.614s\n",
      "train loss: 0.383693\n",
      "val loss: 0.436232\n",
      "validation acc: 0.805100\n",
      "\n",
      "\n"
     ]
    }
   ],
   "source": [
    "train_loss, val_loss, val_accuracy = train_model(model, train_loader, val_loader, loss_function, optimizer, EPOCHS)"
   ]
  },
  {
   "cell_type": "code",
   "execution_count": 65,
   "id": "35287d90",
   "metadata": {},
   "outputs": [],
   "source": [
    "torch.save(model, 'behavior_clf_20_epoch.pth')"
   ]
  },
  {
   "cell_type": "markdown",
   "id": "f0ac27c9",
   "metadata": {},
   "source": [
    "### Results"
   ]
  },
  {
   "cell_type": "code",
   "execution_count": 66,
   "id": "3cc170d0",
   "metadata": {},
   "outputs": [
    {
     "data": {
      "image/png": "[encoded data removed]",
      "text/plain": [
       "<Figure size 1080x360 with 2 Axes>"
      ]
     },
     "metadata": {
      "needs_background": "light"
     },
     "output_type": "display_data"
    }
   ],
   "source": [
    "plot_train(train_loss, val_loss, val_accuracy)"
   ]
  },
  {
   "cell_type": "code",
   "execution_count": null,
   "id": "abb5fc0b",
   "metadata": {},
   "outputs": [],
   "source": []
  }
 ],
 "metadata": {
  "kernelspec": {
   "display_name": "Python 3",
   "language": "python",
   "name": "python3"
  },
  "language_info": {
   "codemirror_mode": {
    "name": "ipython",
    "version": 3
   },
   "file_extension": ".py",
   "mimetype": "text/x-python",
   "name": "python",
   "nbconvert_exporter": "python",
   "pygments_lexer": "ipython3",
   "version": "3.8.8"
  }
 },
 "nbformat": 4,
 "nbformat_minor": 5
}
