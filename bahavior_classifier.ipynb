{
 "cells": [
  {
   "cell_type": "code",
   "execution_count": 1,
   "id": "2d36a42a",
   "metadata": {},
   "outputs": [],
   "source": [
    "from datasets.behavior import *\n",
    "from common.utils import *\n",
    "from common.plot_utils import *\n",
    "from common.train_utils import *"
   ]
  },
  {
   "cell_type": "code",
   "execution_count": 2,
   "id": "9fef4167",
   "metadata": {},
   "outputs": [],
   "source": [
    "full_dataset = BehaviourDataset('./behavior.csv')"
   ]
  },
  {
   "cell_type": "markdown",
   "id": "0b5e2475",
   "metadata": {},
   "source": [
    "### Train/Val"
   ]
  },
  {
   "cell_type": "code",
   "execution_count": 3,
   "id": "6f4cbecd",
   "metadata": {},
   "outputs": [],
   "source": [
    "val_size = 0.2\n",
    "val_inds = subset_ind(full_dataset, 0.2)"
   ]
  },
  {
   "cell_type": "code",
   "execution_count": 4,
   "id": "ed3a9593",
   "metadata": {},
   "outputs": [
    {
     "name": "stdout",
     "output_type": "stream",
     "text": [
      "train size: 40000\n",
      "val size: 10000\n"
     ]
    }
   ],
   "source": [
    "train_dataset = Subset(full_dataset, [i for i in range(len(full_dataset)) if i not in val_inds])\n",
    "val_dataset = Subset(full_dataset, val_inds)\n",
    "\n",
    "print(f'train size: {len(train_dataset)}\\nval size: {len(val_dataset)}')"
   ]
  },
  {
   "cell_type": "markdown",
   "id": "83ea4201",
   "metadata": {},
   "source": [
    "### Dataloaders"
   ]
  },
  {
   "cell_type": "code",
   "execution_count": 5,
   "id": "db45d6d1",
   "metadata": {},
   "outputs": [],
   "source": [
    "BATCH_SIZE = 1"
   ]
  },
  {
   "cell_type": "code",
   "execution_count": 6,
   "id": "dea36e5d",
   "metadata": {},
   "outputs": [],
   "source": [
    "train_loader = DataLoader(train_dataset, batch_size=BATCH_SIZE, shuffle=True)\n",
    "val_loader = DataLoader(val_dataset, batch_size=BATCH_SIZE, shuffle=True)"
   ]
  },
  {
   "cell_type": "markdown",
   "id": "bac9cd37",
   "metadata": {},
   "source": [
    "### NN Model"
   ]
  },
  {
   "cell_type": "code",
   "execution_count": 7,
   "id": "9feedf96",
   "metadata": {},
   "outputs": [],
   "source": [
    "loss_function = torch.nn.BCELoss()"
   ]
  },
  {
   "cell_type": "code",
   "execution_count": 8,
   "id": "da88b108",
   "metadata": {},
   "outputs": [],
   "source": [
    "class Reshape(torch.nn.Module):\n",
    "    def __init__(self, *args):\n",
    "        super().__init__()\n",
    "        self.shape = args\n",
    "\n",
    "    def forward(self, x):\n",
    "        return x.view(self.shape)"
   ]
  },
  {
   "cell_type": "code",
   "execution_count": 9,
   "id": "8baf03fb",
   "metadata": {},
   "outputs": [],
   "source": [
    "model = torch.nn.Sequential(\n",
    "    torch.nn.Linear(105, 64),\n",
    "    torch.nn.ReLU(),\n",
    "    torch.nn.Linear(64, 32),\n",
    "    torch.nn.Linear(32, 16),\n",
    "    torch.nn.ReLU(),\n",
    "    torch.nn.Linear(16, 1),\n",
    "    torch.nn.Sigmoid()\n",
    ")\n",
    "\n",
    "optimizer = torch.optim.Adam(model.parameters(), lr = 1e-3)"
   ]
  },
  {
   "cell_type": "markdown",
   "id": "df90efe8",
   "metadata": {},
   "source": [
    "### Train"
   ]
  },
  {
   "cell_type": "code",
   "execution_count": 10,
   "id": "22e20ad4",
   "metadata": {},
   "outputs": [],
   "source": [
    "EPOCHS = 40"
   ]
  },
  {
   "cell_type": "code",
   "execution_count": 11,
   "id": "d63ea004",
   "metadata": {
    "collapsed": true
   },
   "outputs": [
    {
     "name": "stdout",
     "output_type": "stream",
     "text": [
      "Epoch 1/40. time: 35.883s\n",
      "train loss: 0.487560\n",
      "val loss: 0.499885\n",
      "validation acc: 0.771900\n",
      "\n",
      "\n",
      "Epoch 2/40. time: 38.032s\n",
      "train loss: 0.453253\n",
      "val loss: 0.452331\n",
      "validation acc: 0.786800\n",
      "\n",
      "\n",
      "Epoch 3/40. time: 36.937s\n",
      "train loss: 0.439093\n",
      "val loss: 0.442980\n",
      "validation acc: 0.784300\n",
      "\n",
      "\n",
      "Epoch 4/40. time: 36.318s\n",
      "train loss: 0.430400\n",
      "val loss: 0.434737\n",
      "validation acc: 0.798700\n",
      "\n",
      "\n",
      "Epoch 5/40. time: 36.262s\n",
      "train loss: 0.421483\n",
      "val loss: 0.432597\n",
      "validation acc: 0.797300\n",
      "\n",
      "\n",
      "Epoch 6/40. time: 37.073s\n",
      "train loss: 0.415667\n",
      "val loss: 0.441800\n",
      "validation acc: 0.748100\n",
      "\n",
      "\n",
      "Epoch 7/40. time: 34.289s\n",
      "train loss: 0.411098\n",
      "val loss: 0.422844\n",
      "validation acc: 0.806800\n",
      "\n",
      "\n",
      "Epoch 8/40. time: 34.047s\n",
      "train loss: 0.407091\n",
      "val loss: 0.423631\n",
      "validation acc: 0.801000\n",
      "\n",
      "\n",
      "Epoch 9/40. time: 32.683s\n",
      "train loss: 0.405518\n",
      "val loss: 0.423769\n",
      "validation acc: 0.805700\n",
      "\n",
      "\n",
      "Epoch 10/40. time: 36.309s\n",
      "train loss: 0.402630\n",
      "val loss: 0.418618\n",
      "validation acc: 0.813500\n",
      "\n",
      "\n",
      "Epoch 11/40. time: 36.343s\n",
      "train loss: 0.400486\n",
      "val loss: 0.434310\n",
      "validation acc: 0.792600\n",
      "\n",
      "\n",
      "Epoch 12/40. time: 37.377s\n",
      "train loss: 0.397619\n",
      "val loss: 0.433984\n",
      "validation acc: 0.793500\n",
      "\n",
      "\n",
      "Epoch 13/40. time: 34.531s\n",
      "train loss: 0.394494\n",
      "val loss: 0.430563\n",
      "validation acc: 0.807900\n",
      "\n",
      "\n",
      "Epoch 14/40. time: 35.453s\n",
      "train loss: 0.394143\n",
      "val loss: 0.463919\n",
      "validation acc: 0.804400\n",
      "\n",
      "\n",
      "Epoch 15/40. time: 39.786s\n",
      "train loss: 0.391321\n",
      "val loss: 0.438616\n",
      "validation acc: 0.805200\n",
      "\n",
      "\n",
      "Epoch 16/40. time: 35.937s\n",
      "train loss: 0.390449\n",
      "val loss: 0.428778\n",
      "validation acc: 0.810000\n",
      "\n",
      "\n",
      "Epoch 17/40. time: 34.180s\n",
      "train loss: 0.388537\n",
      "val loss: 0.445409\n",
      "validation acc: 0.814800\n",
      "\n",
      "\n",
      "Epoch 18/40. time: 34.204s\n",
      "train loss: 0.387354\n",
      "val loss: 0.443413\n",
      "validation acc: 0.800700\n",
      "\n",
      "\n",
      "Epoch 19/40. time: 31.977s\n",
      "train loss: 0.388385\n",
      "val loss: 0.425811\n",
      "validation acc: 0.805800\n",
      "\n",
      "\n",
      "Epoch 20/40. time: 34.785s\n",
      "train loss: 0.384731\n",
      "val loss: 0.428671\n",
      "validation acc: 0.809700\n",
      "\n",
      "\n",
      "Epoch 21/40. time: 34.462s\n",
      "train loss: 0.387774\n",
      "val loss: 0.434265\n",
      "validation acc: 0.806900\n",
      "\n",
      "\n",
      "Epoch 22/40. time: 35.090s\n",
      "train loss: 0.383811\n",
      "val loss: 0.435898\n",
      "validation acc: 0.819000\n",
      "\n",
      "\n",
      "Epoch 23/40. time: 33.946s\n",
      "train loss: 0.386330\n",
      "val loss: 0.437763\n",
      "validation acc: 0.805000\n",
      "\n",
      "\n",
      "Epoch 24/40. time: 32.654s\n",
      "train loss: 0.382731\n",
      "val loss: 0.433407\n",
      "validation acc: 0.811900\n",
      "\n",
      "\n",
      "Epoch 25/40. time: 35.634s\n",
      "train loss: 0.382629\n",
      "val loss: 0.442182\n",
      "validation acc: 0.804900\n",
      "\n",
      "\n",
      "Epoch 26/40. time: 34.298s\n",
      "train loss: 0.383937\n",
      "val loss: 0.442642\n",
      "validation acc: 0.813700\n",
      "\n",
      "\n",
      "Epoch 27/40. time: 33.733s\n",
      "train loss: 0.381426\n",
      "val loss: 0.432658\n",
      "validation acc: 0.814800\n",
      "\n",
      "\n",
      "Epoch 28/40. time: 33.145s\n",
      "train loss: 0.382672\n",
      "val loss: 0.447172\n",
      "validation acc: 0.812900\n",
      "\n",
      "\n",
      "Epoch 29/40. time: 35.681s\n",
      "train loss: 0.378356\n",
      "val loss: 0.432095\n",
      "validation acc: 0.815800\n",
      "\n",
      "\n",
      "Epoch 30/40. time: 32.398s\n",
      "train loss: 0.377189\n",
      "val loss: 0.427815\n",
      "validation acc: 0.816500\n",
      "\n",
      "\n",
      "Epoch 31/40. time: 33.602s\n",
      "train loss: 0.375843\n",
      "val loss: 0.432879\n",
      "validation acc: 0.818300\n",
      "\n",
      "\n",
      "Epoch 32/40. time: 37.894s\n",
      "train loss: 0.373856\n",
      "val loss: 0.498034\n",
      "validation acc: 0.807600\n",
      "\n",
      "\n",
      "Epoch 33/40. time: 34.535s\n",
      "train loss: 0.374339\n",
      "val loss: 0.462005\n",
      "validation acc: 0.816000\n",
      "\n",
      "\n",
      "Epoch 34/40. time: 35.264s\n",
      "train loss: 0.374950\n",
      "val loss: 0.465274\n",
      "validation acc: 0.811100\n",
      "\n",
      "\n",
      "Epoch 35/40. time: 38.502s\n",
      "train loss: 0.375058\n",
      "val loss: 0.495754\n",
      "validation acc: 0.817300\n",
      "\n",
      "\n",
      "Epoch 36/40. time: 33.850s\n",
      "train loss: 0.374294\n",
      "val loss: 0.457901\n",
      "validation acc: 0.815200\n",
      "\n",
      "\n",
      "Epoch 37/40. time: 34.014s\n",
      "train loss: 0.373898\n",
      "val loss: 0.462451\n",
      "validation acc: 0.817900\n",
      "\n",
      "\n",
      "Epoch 38/40. time: 34.439s\n",
      "train loss: 0.378815\n",
      "val loss: 0.559052\n",
      "validation acc: 0.815800\n",
      "\n",
      "\n",
      "Epoch 39/40. time: 34.408s\n",
      "train loss: 0.379577\n",
      "val loss: 0.480378\n",
      "validation acc: 0.816900\n",
      "\n",
      "\n",
      "Epoch 40/40. time: 34.370s\n",
      "train loss: 0.373441\n",
      "val loss: 0.495325\n",
      "validation acc: 0.819800\n",
      "\n",
      "\n"
     ]
    }
   ],
   "source": [
    "train_loss, val_loss, val_accuracy = train_model(model, train_loader, val_loader, loss_function, optimizer, EPOCHS)"
   ]
  },
  {
   "cell_type": "code",
   "execution_count": 12,
   "id": "35287d90",
   "metadata": {},
   "outputs": [],
   "source": [
    "torch.save(model, 'behavior_clf_40_epoch.pth')"
   ]
  },
  {
   "cell_type": "markdown",
   "id": "f0ac27c9",
   "metadata": {},
   "source": [
    "### Results"
   ]
  },
  {
   "cell_type": "code",
   "execution_count": 13,
   "id": "3cc170d0",
   "metadata": {},
   "outputs": [
    {
     "data": {
      "image/png": "[encoded data removed]",
      "text/plain": [
       "<Figure size 1080x360 with 2 Axes>"
      ]
     },
     "metadata": {
      "needs_background": "light"
     },
     "output_type": "display_data"
    }
   ],
   "source": [
    "plot_train(train_loss, val_loss, val_accuracy)"
   ]
  }
 ],
 "metadata": {
  "kernelspec": {
   "display_name": "Python 3",
   "language": "python",
   "name": "python3"
  },
  "language_info": {
   "codemirror_mode": {
    "name": "ipython",
    "version": 3
   },
   "file_extension": ".py",
   "mimetype": "text/x-python",
   "name": "python",
   "nbconvert_exporter": "python",
   "pygments_lexer": "ipython3",
   "version": "3.8.8"
  }
 },
 "nbformat": 4,
 "nbformat_minor": 5
}
