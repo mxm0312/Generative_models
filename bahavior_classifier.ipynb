{
 "cells": [
  {
   "cell_type": "code",
   "execution_count": null,
   "id": "2d36a42a",
   "metadata": {},
   "outputs": [],
   "source": [
    "from datasets.behavior import *\n",
    "from common.utils import *\n",
    "from common.draw_utils import *\n",
    "from common.train_utils import *"
   ]
  },
  {
   "cell_type": "code",
   "execution_count": null,
   "id": "9fef4167",
   "metadata": {},
   "outputs": [],
   "source": [
    "full_dataset = BehaviourDataset('./behavior.csv')"
   ]
  },
  {
   "cell_type": "markdown",
   "id": "0b5e2475",
   "metadata": {},
   "source": [
    "### Train/Val"
   ]
  },
  {
   "cell_type": "code",
   "execution_count": null,
   "id": "6f4cbecd",
   "metadata": {},
   "outputs": [],
   "source": [
    "val_size = 0.2\n",
    "val_inds = subset_ind(full_dataset, 0.2)"
   ]
  },
  {
   "cell_type": "code",
   "execution_count": null,
   "id": "ed3a9593",
   "metadata": {},
   "outputs": [],
   "source": [
    "train_dataset = Subset(full_dataset, [i for i in range(len(full_dataset)) if i not in val_inds])\n",
    "val_dataset = Subset(full_dataset, val_inds)\n",
    "\n",
    "print(f'train size: {len(train_dataset)}\\nval size: {len(val_dataset)}')"
   ]
  },
  {
   "cell_type": "markdown",
   "id": "83ea4201",
   "metadata": {},
   "source": [
    "### Dataloaders"
   ]
  },
  {
   "cell_type": "code",
   "execution_count": null,
   "id": "db45d6d1",
   "metadata": {},
   "outputs": [],
   "source": [
    "BATCH_SIZE = 10"
   ]
  },
  {
   "cell_type": "code",
   "execution_count": null,
   "id": "dea36e5d",
   "metadata": {},
   "outputs": [],
   "source": [
    "train_loader = DataLoader(train_dataset, batch_size=BATCH_SIZE, shuffle=True)\n",
    "val_loader = DataLoader(val_dataset, batch_size=BATCH_SIZE, shuffle=True)"
   ]
  },
  {
   "cell_type": "markdown",
   "id": "bac9cd37",
   "metadata": {},
   "source": [
    "### NN Model"
   ]
  },
  {
   "cell_type": "code",
   "execution_count": null,
   "id": "9feedf96",
   "metadata": {},
   "outputs": [],
   "source": [
    "loss_function = torch.nn.BCELoss()"
   ]
  },
  {
   "cell_type": "code",
   "execution_count": null,
   "id": "8baf03fb",
   "metadata": {},
   "outputs": [],
   "source": [
    "model = torch.nn.Sequential(\n",
    "    torch.nn.Linear(200, 128),\n",
    "    torch.nn.Linear(128, 64),\n",
    "    torch.nn.Linear(64, 1),\n",
    "    torch.nn.Sigmoid()\n",
    ")\n",
    "\n",
    "optimizer = torch.optim.Adam(model.parameters(), lr = 1e-3)"
   ]
  },
  {
   "cell_type": "markdown",
   "id": "df90efe8",
   "metadata": {},
   "source": [
    "### Train"
   ]
  },
  {
   "cell_type": "code",
   "execution_count": null,
   "id": "22e20ad4",
   "metadata": {},
   "outputs": [],
   "source": [
    "EPOCHS = 3"
   ]
  },
  {
   "cell_type": "code",
   "execution_count": null,
   "id": "d63ea004",
   "metadata": {},
   "outputs": [],
   "source": [
    "train_loss, val_loss, val_accuracy = train_model(model, train_loader, val_loader, loss_function, optimizer, EPOCHS)"
   ]
  },
  {
   "cell_type": "markdown",
   "id": "f0ac27c9",
   "metadata": {},
   "source": [
    "### Results"
   ]
  },
  {
   "cell_type": "code",
   "execution_count": null,
   "id": "3cc170d0",
   "metadata": {},
   "outputs": [],
   "source": [
    "plot_train(train_loss, val_loss, val_accuracy)"
   ]
  }
 ],
 "metadata": {
  "kernelspec": {
   "display_name": "Python 3",
   "language": "python",
   "name": "python3"
  },
  "language_info": {
   "codemirror_mode": {
    "name": "ipython",
    "version": 3
   },
   "file_extension": ".py",
   "mimetype": "text/x-python",
   "name": "python",
   "nbconvert_exporter": "python",
   "pygments_lexer": "ipython3",
   "version": "3.8.8"
  }
 },
 "nbformat": 4,
 "nbformat_minor": 5
}
