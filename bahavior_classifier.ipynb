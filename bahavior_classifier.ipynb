{
 "cells": [
  {
   "cell_type": "code",
   "execution_count": null,
   "id": "e4c14bd4",
   "metadata": {},
   "outputs": [],
   "source": [
    "from datasets.behavior import *\n",
    "from common.utils import *"
   ]
  },
  {
   "cell_type": "code",
   "execution_count": null,
   "id": "a70962a6",
   "metadata": {},
   "outputs": [],
   "source": [
    "full_dataset = BehaviourDataset('./behavior.csv')"
   ]
  },
  {
   "cell_type": "markdown",
   "id": "7699f19b",
   "metadata": {},
   "source": [
    "### Train/Val"
   ]
  },
  {
   "cell_type": "code",
   "execution_count": null,
   "id": "ec7fbcb4",
   "metadata": {},
   "outputs": [],
   "source": [
    "val_size = 0.2\n",
    "val_inds = subset_ind(full_dataset, 0.2)"
   ]
  },
  {
   "cell_type": "code",
   "execution_count": null,
   "id": "f1254396",
   "metadata": {},
   "outputs": [],
   "source": [
    "train_dataset = Subset(full_dataset, [i for i in range(len(full_dataset)) if i not in val_inds])\n",
    "val_dataset = Subset(full_dataset, val_inds)\n",
    "\n",
    "print(f'train size: {len(train_dataset)}\\nval size: {len(val_dataset)}')"
   ]
  },
  {
   "cell_type": "markdown",
   "id": "054f8067",
   "metadata": {},
   "source": [
    "### Dataloaders"
   ]
  },
  {
   "cell_type": "code",
   "execution_count": null,
   "id": "7875f940",
   "metadata": {},
   "outputs": [],
   "source": [
    "BATCH_SIZE = 10"
   ]
  },
  {
   "cell_type": "code",
   "execution_count": null,
   "id": "c3219d44",
   "metadata": {},
   "outputs": [],
   "source": [
    "train_loader = DataLoader(train_dataset, batch_size=BATCH_SIZE, shuffle=True)\n",
    "val_loader = DataLoader(val_dataset, batch_size=BATCH_SIZE, shuffle=True)"
   ]
  },
  {
   "cell_type": "markdown",
   "id": "90993d6d",
   "metadata": {},
   "source": [
    "### NN Model"
   ]
  },
  {
   "cell_type": "code",
   "execution_count": null,
   "id": "e6d2bf46",
   "metadata": {},
   "outputs": [],
   "source": [
    "loss_function = torch.nn.BCELoss()"
   ]
  },
  {
   "cell_type": "code",
   "execution_count": null,
   "id": "770a22d0",
   "metadata": {},
   "outputs": [],
   "source": [
    "model = torch.nn.Sequential(\n",
    "    torch.nn.Linear(200, 128),\n",
    "    torch.nn.Linear(128, 64),\n",
    "    torch.nn.Linear(64, 1),\n",
    "    torch.nn.Sigmoid()\n",
    ")\n",
    "\n",
    "optimizer = torch.optim.Adam(model.parameters(), lr = 1e-3)"
   ]
  },
  {
   "cell_type": "markdown",
   "id": "cb0562cf",
   "metadata": {},
   "source": [
    "### Train"
   ]
  },
  {
   "cell_type": "code",
   "execution_count": null,
   "id": "95005860",
   "metadata": {},
   "outputs": [],
   "source": [
    "EPOCHS = 3"
   ]
  },
  {
   "cell_type": "code",
   "execution_count": null,
   "id": "746747df",
   "metadata": {},
   "outputs": [],
   "source": [
    "train_loss, val_loss, val_accuracy = train_model(model, train_loader, val_loader, loss_function, optimizer, EPOCHS)"
   ]
  },
  {
   "cell_type": "markdown",
   "id": "2007d028",
   "metadata": {},
   "source": [
    "### Results"
   ]
  },
  {
   "cell_type": "code",
   "execution_count": null,
   "id": "91d7529e",
   "metadata": {},
   "outputs": [],
   "source": [
    "plot_train(train_loss, val_loss, val_accuracy)"
   ]
  }
 ],
 "metadata": {
  "kernelspec": {
   "display_name": "Python 3",
   "language": "python",
   "name": "python3"
  },
  "language_info": {
   "codemirror_mode": {
    "name": "ipython",
    "version": 3
   },
   "file_extension": ".py",
   "mimetype": "text/x-python",
   "name": "python",
   "nbconvert_exporter": "python",
   "pygments_lexer": "ipython3",
   "version": "3.8.8"
  }
 },
 "nbformat": 4,
 "nbformat_minor": 5
}
